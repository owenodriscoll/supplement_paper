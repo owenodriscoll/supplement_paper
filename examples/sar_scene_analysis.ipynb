{
 "cells": [
  {
   "cell_type": "markdown",
   "id": "b2e043f3",
   "metadata": {},
   "source": [
    "Loading of necessary packages"
   ]
  },
  {
   "cell_type": "code",
   "execution_count": 1,
   "id": "a9909a4a",
   "metadata": {},
   "outputs": [],
   "source": [
    "import sys\n",
    "import os\n",
    "import xarray as xr\n",
    "import pandas as pd"
   ]
  },
  {
   "cell_type": "markdown",
   "id": "6e99e093",
   "metadata": {},
   "source": [
    "Loading of custom module"
   ]
  },
  {
   "cell_type": "code",
   "execution_count": 3,
   "id": "55b61f40",
   "metadata": {
    "scrolled": false
   },
   "outputs": [],
   "source": [
    "sys.path.insert(0, os.path.abspath('..'))  # hacky way to import within package\n",
    "from src import sar_analysis"
   ]
  },
  {
   "cell_type": "markdown",
   "id": "cf2060e1",
   "metadata": {},
   "source": [
    "Load example data"
   ]
  },
  {
   "cell_type": "code",
   "execution_count": 8,
   "id": "1adcac0b",
   "metadata": {},
   "outputs": [],
   "source": [
    "import glob"
   ]
  },
  {
   "cell_type": "code",
   "execution_count": 11,
   "id": "69db9772",
   "metadata": {},
   "outputs": [
    {
     "data": {
      "text/plain": [
       "'/export/home/owen/Documents/scripts/SAR_paper/examples'"
      ]
     },
     "execution_count": 11,
     "metadata": {},
     "output_type": "execute_result"
    }
   ],
   "source": [
    "os.getcwd()"
   ]
  },
  {
   "cell_type": "code",
   "execution_count": 9,
   "id": "edac967d",
   "metadata": {},
   "outputs": [
    {
     "data": {
      "text/plain": [
       "['..']"
      ]
     },
     "execution_count": 9,
     "metadata": {},
     "output_type": "execute_result"
    }
   ],
   "source": [
    "glob.glob('.')"
   ]
  },
  {
   "cell_type": "code",
   "execution_count": 22,
   "id": "ed9c1cdb",
   "metadata": {},
   "outputs": [
    {
     "ename": "ValueError",
     "evalue": "found the following matches with the input file in xarray's IO backends: ['netcdf4', 'h5netcdf']. But their dependencies may not be installed, see:\nhttps://docs.xarray.dev/en/stable/user-guide/io.html \nhttps://docs.xarray.dev/en/stable/getting-started-guide/installing.html",
     "output_type": "error",
     "traceback": [
      "\u001b[0;31m---------------------------------------------------------------------------\u001b[0m",
      "\u001b[0;31mValueError\u001b[0m                                Traceback (most recent call last)",
      "Cell \u001b[0;32mIn[22], line 2\u001b[0m\n\u001b[1;32m      1\u001b[0m \u001b[38;5;66;03m# xr.open_dataset('/export/home/owen/Documents/scripts/SAR_paper/data/roll.nc')\u001b[39;00m\n\u001b[0;32m----> 2\u001b[0m \u001b[43mxr\u001b[49m\u001b[38;5;241;43m.\u001b[39;49m\u001b[43mopen_dataset\u001b[49m\u001b[43m(\u001b[49m\u001b[38;5;124;43m'\u001b[39;49m\u001b[38;5;124;43m/home/owen/Documents/sentinel/wv_paper/roll0.nc\u001b[39;49m\u001b[38;5;124;43m'\u001b[39;49m\u001b[43m)\u001b[49m\n",
      "File \u001b[0;32m~/anaconda3/envs/env_paper/lib/python3.9/site-packages/xarray/backends/api.py:510\u001b[0m, in \u001b[0;36mopen_dataset\u001b[0;34m(filename_or_obj, engine, chunks, cache, decode_cf, mask_and_scale, decode_times, decode_timedelta, use_cftime, concat_characters, decode_coords, drop_variables, inline_array, backend_kwargs, **kwargs)\u001b[0m\n\u001b[1;32m    507\u001b[0m     kwargs\u001b[38;5;241m.\u001b[39mupdate(backend_kwargs)\n\u001b[1;32m    509\u001b[0m \u001b[38;5;28;01mif\u001b[39;00m engine \u001b[38;5;129;01mis\u001b[39;00m \u001b[38;5;28;01mNone\u001b[39;00m:\n\u001b[0;32m--> 510\u001b[0m     engine \u001b[38;5;241m=\u001b[39m \u001b[43mplugins\u001b[49m\u001b[38;5;241;43m.\u001b[39;49m\u001b[43mguess_engine\u001b[49m\u001b[43m(\u001b[49m\u001b[43mfilename_or_obj\u001b[49m\u001b[43m)\u001b[49m\n\u001b[1;32m    512\u001b[0m backend \u001b[38;5;241m=\u001b[39m plugins\u001b[38;5;241m.\u001b[39mget_backend(engine)\n\u001b[1;32m    514\u001b[0m decoders \u001b[38;5;241m=\u001b[39m _resolve_decoders_kwargs(\n\u001b[1;32m    515\u001b[0m     decode_cf,\n\u001b[1;32m    516\u001b[0m     open_backend_dataset_parameters\u001b[38;5;241m=\u001b[39mbackend\u001b[38;5;241m.\u001b[39mopen_dataset_parameters,\n\u001b[0;32m   (...)\u001b[0m\n\u001b[1;32m    522\u001b[0m     decode_coords\u001b[38;5;241m=\u001b[39mdecode_coords,\n\u001b[1;32m    523\u001b[0m )\n",
      "File \u001b[0;32m~/anaconda3/envs/env_paper/lib/python3.9/site-packages/xarray/backends/plugins.py:177\u001b[0m, in \u001b[0;36mguess_engine\u001b[0;34m(store_spec)\u001b[0m\n\u001b[1;32m    169\u001b[0m \u001b[38;5;28;01melse\u001b[39;00m:\n\u001b[1;32m    170\u001b[0m     error_msg \u001b[38;5;241m=\u001b[39m (\n\u001b[1;32m    171\u001b[0m         \u001b[38;5;124m\"\u001b[39m\u001b[38;5;124mfound the following matches with the input file in xarray\u001b[39m\u001b[38;5;124m'\u001b[39m\u001b[38;5;124ms IO \u001b[39m\u001b[38;5;124m\"\u001b[39m\n\u001b[1;32m    172\u001b[0m         \u001b[38;5;124mf\u001b[39m\u001b[38;5;124m\"\u001b[39m\u001b[38;5;124mbackends: \u001b[39m\u001b[38;5;132;01m{\u001b[39;00mcompatible_engines\u001b[38;5;132;01m}\u001b[39;00m\u001b[38;5;124m. But their dependencies may not be installed, see:\u001b[39m\u001b[38;5;130;01m\\n\u001b[39;00m\u001b[38;5;124m\"\u001b[39m\n\u001b[1;32m    173\u001b[0m         \u001b[38;5;124m\"\u001b[39m\u001b[38;5;124mhttps://docs.xarray.dev/en/stable/user-guide/io.html \u001b[39m\u001b[38;5;130;01m\\n\u001b[39;00m\u001b[38;5;124m\"\u001b[39m\n\u001b[1;32m    174\u001b[0m         \u001b[38;5;124m\"\u001b[39m\u001b[38;5;124mhttps://docs.xarray.dev/en/stable/getting-started-guide/installing.html\u001b[39m\u001b[38;5;124m\"\u001b[39m\n\u001b[1;32m    175\u001b[0m     )\n\u001b[0;32m--> 177\u001b[0m \u001b[38;5;28;01mraise\u001b[39;00m \u001b[38;5;167;01mValueError\u001b[39;00m(error_msg)\n",
      "\u001b[0;31mValueError\u001b[0m: found the following matches with the input file in xarray's IO backends: ['netcdf4', 'h5netcdf']. But their dependencies may not be installed, see:\nhttps://docs.xarray.dev/en/stable/user-guide/io.html \nhttps://docs.xarray.dev/en/stable/getting-started-guide/installing.html"
     ]
    }
   ],
   "source": [
    "# xr.open_dataset('/export/home/owen/Documents/scripts/SAR_paper/data/roll.nc')\n",
    "xr.open_dataset('/home/owen/Documents/sentinel/wv_paper/roll0.nc')"
   ]
  },
  {
   "cell_type": "code",
   "execution_count": 20,
   "id": "3a959d6c",
   "metadata": {},
   "outputs": [],
   "source": [
    "import h5netcdf"
   ]
  },
  {
   "cell_type": "code",
   "execution_count": 18,
   "id": "6cdbf7b5",
   "metadata": {},
   "outputs": [
    {
     "ename": "ValueError",
     "evalue": "found the following matches with the input file in xarray's IO backends: ['netcdf4', 'h5netcdf']. But their dependencies may not be installed, see:\nhttps://docs.xarray.dev/en/stable/user-guide/io.html \nhttps://docs.xarray.dev/en/stable/getting-started-guide/installing.html",
     "output_type": "error",
     "traceback": [
      "\u001b[0;31m---------------------------------------------------------------------------\u001b[0m",
      "\u001b[0;31mValueError\u001b[0m                                Traceback (most recent call last)",
      "Cell \u001b[0;32mIn[18], line 1\u001b[0m\n\u001b[0;32m----> 1\u001b[0m sar_ds \u001b[38;5;241m=\u001b[39m \u001b[43mxr\u001b[49m\u001b[38;5;241;43m.\u001b[39;49m\u001b[43mopen_dataset\u001b[49m\u001b[43m(\u001b[49m\u001b[38;5;124;43m'\u001b[39;49m\u001b[38;5;124;43m../data/roll.nc\u001b[39;49m\u001b[38;5;124;43m'\u001b[39;49m\u001b[43m)\u001b[49m\n\u001b[1;32m      2\u001b[0m sar_ds\u001b[38;5;241m.\u001b[39msigma0\u001b[38;5;241m.\u001b[39mplot()\n",
      "File \u001b[0;32m~/anaconda3/envs/env_paper/lib/python3.9/site-packages/xarray/backends/api.py:510\u001b[0m, in \u001b[0;36mopen_dataset\u001b[0;34m(filename_or_obj, engine, chunks, cache, decode_cf, mask_and_scale, decode_times, decode_timedelta, use_cftime, concat_characters, decode_coords, drop_variables, inline_array, backend_kwargs, **kwargs)\u001b[0m\n\u001b[1;32m    507\u001b[0m     kwargs\u001b[38;5;241m.\u001b[39mupdate(backend_kwargs)\n\u001b[1;32m    509\u001b[0m \u001b[38;5;28;01mif\u001b[39;00m engine \u001b[38;5;129;01mis\u001b[39;00m \u001b[38;5;28;01mNone\u001b[39;00m:\n\u001b[0;32m--> 510\u001b[0m     engine \u001b[38;5;241m=\u001b[39m \u001b[43mplugins\u001b[49m\u001b[38;5;241;43m.\u001b[39;49m\u001b[43mguess_engine\u001b[49m\u001b[43m(\u001b[49m\u001b[43mfilename_or_obj\u001b[49m\u001b[43m)\u001b[49m\n\u001b[1;32m    512\u001b[0m backend \u001b[38;5;241m=\u001b[39m plugins\u001b[38;5;241m.\u001b[39mget_backend(engine)\n\u001b[1;32m    514\u001b[0m decoders \u001b[38;5;241m=\u001b[39m _resolve_decoders_kwargs(\n\u001b[1;32m    515\u001b[0m     decode_cf,\n\u001b[1;32m    516\u001b[0m     open_backend_dataset_parameters\u001b[38;5;241m=\u001b[39mbackend\u001b[38;5;241m.\u001b[39mopen_dataset_parameters,\n\u001b[0;32m   (...)\u001b[0m\n\u001b[1;32m    522\u001b[0m     decode_coords\u001b[38;5;241m=\u001b[39mdecode_coords,\n\u001b[1;32m    523\u001b[0m )\n",
      "File \u001b[0;32m~/anaconda3/envs/env_paper/lib/python3.9/site-packages/xarray/backends/plugins.py:177\u001b[0m, in \u001b[0;36mguess_engine\u001b[0;34m(store_spec)\u001b[0m\n\u001b[1;32m    169\u001b[0m \u001b[38;5;28;01melse\u001b[39;00m:\n\u001b[1;32m    170\u001b[0m     error_msg \u001b[38;5;241m=\u001b[39m (\n\u001b[1;32m    171\u001b[0m         \u001b[38;5;124m\"\u001b[39m\u001b[38;5;124mfound the following matches with the input file in xarray\u001b[39m\u001b[38;5;124m'\u001b[39m\u001b[38;5;124ms IO \u001b[39m\u001b[38;5;124m\"\u001b[39m\n\u001b[1;32m    172\u001b[0m         \u001b[38;5;124mf\u001b[39m\u001b[38;5;124m\"\u001b[39m\u001b[38;5;124mbackends: \u001b[39m\u001b[38;5;132;01m{\u001b[39;00mcompatible_engines\u001b[38;5;132;01m}\u001b[39;00m\u001b[38;5;124m. But their dependencies may not be installed, see:\u001b[39m\u001b[38;5;130;01m\\n\u001b[39;00m\u001b[38;5;124m\"\u001b[39m\n\u001b[1;32m    173\u001b[0m         \u001b[38;5;124m\"\u001b[39m\u001b[38;5;124mhttps://docs.xarray.dev/en/stable/user-guide/io.html \u001b[39m\u001b[38;5;130;01m\\n\u001b[39;00m\u001b[38;5;124m\"\u001b[39m\n\u001b[1;32m    174\u001b[0m         \u001b[38;5;124m\"\u001b[39m\u001b[38;5;124mhttps://docs.xarray.dev/en/stable/getting-started-guide/installing.html\u001b[39m\u001b[38;5;124m\"\u001b[39m\n\u001b[1;32m    175\u001b[0m     )\n\u001b[0;32m--> 177\u001b[0m \u001b[38;5;28;01mraise\u001b[39;00m \u001b[38;5;167;01mValueError\u001b[39;00m(error_msg)\n",
      "\u001b[0;31mValueError\u001b[0m: found the following matches with the input file in xarray's IO backends: ['netcdf4', 'h5netcdf']. But their dependencies may not be installed, see:\nhttps://docs.xarray.dev/en/stable/user-guide/io.html \nhttps://docs.xarray.dev/en/stable/getting-started-guide/installing.html"
     ]
    }
   ],
   "source": [
    "sar_ds = xr.open_dataset('../data/roll.nc')\n",
    "sar_ds.sigma0.plot()"
   ]
  },
  {
   "cell_type": "markdown",
   "id": "25dbf0ee",
   "metadata": {},
   "source": [
    "Insert example data in function along with a-priori knowledge or estimates of boundary layer height and wind direction"
   ]
  },
  {
   "cell_type": "code",
   "execution_count": 19,
   "id": "4526c669",
   "metadata": {},
   "outputs": [],
   "source": [
    "# -- a-priori estimates \n",
    "zi_ref = 800           # Planetary Boundary Layer Height (PBL/PBLH/Zi) [m]\n",
    "wdir_ambiguity = 100   # A-priori wind direction to resolve 180 ambiguity [deg]\n",
    "wdir_ref = None        # Reference wind direction to use for calculation of wind field in cmod5.n [deg]\n",
    "\n",
    "output = sar_analysis(sar_ds, zi_ref, wdir_ambiguity = wdir_ambiguity, wdir_ref = wdir_ref)"
   ]
  },
  {
   "cell_type": "markdown",
   "id": "1fcdbab0",
   "metadata": {},
   "source": [
    "Convert output to convenient dataframe with parameter names"
   ]
  },
  {
   "cell_type": "code",
   "execution_count": 21,
   "id": "220094af",
   "metadata": {},
   "outputs": [
    {
     "data": {
      "text/html": [
       "<div>\n",
       "<style scoped>\n",
       "    .dataframe tbody tr th:only-of-type {\n",
       "        vertical-align: middle;\n",
       "    }\n",
       "\n",
       "    .dataframe tbody tr th {\n",
       "        vertical-align: top;\n",
       "    }\n",
       "\n",
       "    .dataframe thead th {\n",
       "        text-align: right;\n",
       "    }\n",
       "</style>\n",
       "<table border=\"1\" class=\"dataframe\">\n",
       "  <thead>\n",
       "    <tr style=\"text-align: right;\">\n",
       "      <th></th>\n",
       "      <th>time_imagette</th>\n",
       "      <th>lat_sar</th>\n",
       "      <th>lon_sar</th>\n",
       "      <th>U_n</th>\n",
       "      <th>wdir</th>\n",
       "      <th>incidence_avg</th>\n",
       "      <th>mean_ground_heading</th>\n",
       "      <th>energy_dir_range</th>\n",
       "      <th>energy_dir</th>\n",
       "      <th>window_effect</th>\n",
       "      <th>...</th>\n",
       "      <th>std_50th</th>\n",
       "      <th>mad_50th</th>\n",
       "      <th>mean_75th</th>\n",
       "      <th>median_75th</th>\n",
       "      <th>std_75th</th>\n",
       "      <th>mad_75th</th>\n",
       "      <th>S_windfield_xi_mean</th>\n",
       "      <th>S_windfield_xi_norm_std</th>\n",
       "      <th>S_sigma0_xi_mean</th>\n",
       "      <th>S_sigma0_xi_std_norm</th>\n",
       "    </tr>\n",
       "  </thead>\n",
       "  <tbody>\n",
       "    <tr>\n",
       "      <th>0</th>\n",
       "      <td>2020-04-06 03:08:55.355190</td>\n",
       "      <td>-6.904402</td>\n",
       "      <td>-131.906714</td>\n",
       "      <td>6.210938</td>\n",
       "      <td>118.137035</td>\n",
       "      <td>37.13308</td>\n",
       "      <td>-12.362965</td>\n",
       "      <td>310.5</td>\n",
       "      <td>208.137035</td>\n",
       "      <td>0.967959</td>\n",
       "      <td>...</td>\n",
       "      <td>37.371</td>\n",
       "      <td>37.5</td>\n",
       "      <td>87.311111</td>\n",
       "      <td>101.0</td>\n",
       "      <td>53.120543</td>\n",
       "      <td>46.0</td>\n",
       "      <td>0.000456</td>\n",
       "      <td>0.146968</td>\n",
       "      <td>1.140999e-08</td>\n",
       "      <td>0.161231</td>\n",
       "    </tr>\n",
       "  </tbody>\n",
       "</table>\n",
       "<p>1 rows × 55 columns</p>\n",
       "</div>"
      ],
      "text/plain": [
       "                time_imagette   lat_sar     lon_sar       U_n        wdir  \\\n",
       "0  2020-04-06 03:08:55.355190 -6.904402 -131.906714  6.210938  118.137035   \n",
       "\n",
       "   incidence_avg  mean_ground_heading  energy_dir_range  energy_dir  \\\n",
       "0       37.13308           -12.362965             310.5  208.137035   \n",
       "\n",
       "   window_effect  ...  std_50th  mad_50th  mean_75th  median_75th   std_75th  \\\n",
       "0       0.967959  ...    37.371      37.5  87.311111        101.0  53.120543   \n",
       "\n",
       "   mad_75th  S_windfield_xi_mean  S_windfield_xi_norm_std  S_sigma0_xi_mean  \\\n",
       "0      46.0             0.000456                 0.146968      1.140999e-08   \n",
       "\n",
       "   S_sigma0_xi_std_norm  \n",
       "0              0.161231  \n",
       "\n",
       "[1 rows x 55 columns]"
      ]
     },
     "execution_count": 21,
     "metadata": {},
     "output_type": "execute_result"
    }
   ],
   "source": [
    "parameter_list = ['time_imagette', 'lat_sar', 'lon_sar', 'U_n', 'wdir', 'incidence_avg', 'mean_ground_heading', 'energy_dir_range',\n",
    "    'energy_dir', 'window_effect', 'polar_effect', 'var_cartesian', 'var_windfield', 'var_polar', 'var_bandpass', 'var_highpass',\n",
    "    'var_lowpass', 'var_beam', 'var_bandpass_beam', 'var_beyond_nyquist', 'frac_beam', 'frac_bandpass', 'frac_lowpass',\n",
    "    'frac_highpass', 'density_beam', 'density_bandpass', 'density_beam_bandpass','u_star', 'z_0', 'Cdn', 'sigma_u', 'L', 'B', 'w_star', \n",
    "    'w_star_normalised_deviation', 'corr_fact', 'H', 'spectral_peak', 'spectral_valley', 'mean_25th', 'median_25th', 'std_25th', \n",
    "    'mad_25th', 'mean_50th', 'median_50th', 'std_50th', 'mad_50th', 'mean_75th', 'median_75th', 'std_75th', 'mad_75th',\n",
    "    'S_windfield_xi_mean', 'S_windfield_xi_norm_std', 'S_sigma0_xi_mean', 'S_sigma0_xi_std_norm'] \n",
    "\n",
    "df = pd.DataFrame(columns = parameter_list)\n",
    "df.loc[0] = output\n",
    "df"
   ]
  }
 ],
 "metadata": {
  "kernelspec": {
   "display_name": "Python 3 (ipykernel)",
   "language": "python",
   "name": "python3"
  },
  "language_info": {
   "codemirror_mode": {
    "name": "ipython",
    "version": 3
   },
   "file_extension": ".py",
   "mimetype": "text/x-python",
   "name": "python",
   "nbconvert_exporter": "python",
   "pygments_lexer": "ipython3",
   "version": "3.9.12"
  }
 },
 "nbformat": 4,
 "nbformat_minor": 5
}
